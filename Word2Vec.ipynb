{
  "cells": [
    {
      "cell_type": "markdown",
      "metadata": {
        "id": "w48UudOSjLnh"
      },
      "source": [
        "Word2vec is one of the most popular techniques to learn word embeddings. The idea behind word2vec was that the meaning of a word is determined by the context in which it occurs. A word embedding is a learned representation for text where words that have the same meaning have a similar representation.\n",
        "\n",
        "**Word2vec** model has 2 architectures:\n",
        "\n",
        "1. **Continuous bag of word (CBOW):**\n",
        "\n",
        "    CBOW predicts the center word from the surrounding context words.\n",
        "\n",
        "2. **Skip-gram:**\n",
        "\n",
        "    Skip-gram predicts surrounding context words from the center word."
      ]
    },
    {
      "cell_type": "markdown",
      "metadata": {
        "id": "baausB5gkhhT"
      },
      "source": [
        "#### SkipGram from Scratch"
      ]
    },
    {
      "cell_type": "code",
      "execution_count": 1,
      "metadata": {
        "colab": {
          "base_uri": "https://localhost:8080/"
        },
        "id": "_LqI4ImZcP-I",
        "outputId": "1424fd65-89f0-4665-868e-b8f40d7bbc06"
      },
      "outputs": [
        {
          "name": "stdout",
          "output_type": "stream",
          "text": [
            "Requirement already satisfied: portalocker in /raid/home/sahilm/anaconda3/envs/nlp/lib/python3.10/site-packages (2.10.1)\n",
            "Found existing installation: torch 1.13.1\n",
            "Uninstalling torch-1.13.1:\n",
            "  Successfully uninstalled torch-1.13.1\n",
            "Found existing installation: torchtext 0.14.1\n",
            "Uninstalling torchtext-0.14.1:\n",
            "  Successfully uninstalled torchtext-0.14.1\n",
            "Found existing installation: numpy 1.26.4\n",
            "Uninstalling numpy-1.26.4:\n",
            "  Successfully uninstalled numpy-1.26.4\n",
            "Collecting torch==1.13.1\n",
            "  Using cached torch-1.13.1-cp310-cp310-manylinux1_x86_64.whl.metadata (24 kB)\n",
            "Collecting torchtext==0.14.1\n",
            "  Using cached torchtext-0.14.1-cp310-cp310-manylinux1_x86_64.whl.metadata (6.9 kB)\n",
            "Requirement already satisfied: typing-extensions in /raid/home/sahilm/anaconda3/envs/nlp/lib/python3.10/site-packages (from torch==1.13.1) (4.12.2)\n",
            "Requirement already satisfied: nvidia-cuda-runtime-cu11==11.7.99 in /raid/home/sahilm/anaconda3/envs/nlp/lib/python3.10/site-packages (from torch==1.13.1) (11.7.99)\n",
            "Requirement already satisfied: nvidia-cudnn-cu11==8.5.0.96 in /raid/home/sahilm/anaconda3/envs/nlp/lib/python3.10/site-packages (from torch==1.13.1) (8.5.0.96)\n",
            "Requirement already satisfied: nvidia-cublas-cu11==11.10.3.66 in /raid/home/sahilm/anaconda3/envs/nlp/lib/python3.10/site-packages (from torch==1.13.1) (11.10.3.66)\n",
            "Requirement already satisfied: nvidia-cuda-nvrtc-cu11==11.7.99 in /raid/home/sahilm/anaconda3/envs/nlp/lib/python3.10/site-packages (from torch==1.13.1) (11.7.99)\n",
            "Requirement already satisfied: tqdm in /raid/home/sahilm/anaconda3/envs/nlp/lib/python3.10/site-packages (from torchtext==0.14.1) (4.66.5)\n",
            "Requirement already satisfied: requests in /raid/home/sahilm/anaconda3/envs/nlp/lib/python3.10/site-packages (from torchtext==0.14.1) (2.32.3)\n",
            "Collecting numpy (from torchtext==0.14.1)\n",
            "  Using cached numpy-2.1.1-cp310-cp310-manylinux_2_17_x86_64.manylinux2014_x86_64.whl.metadata (60 kB)\n",
            "Requirement already satisfied: setuptools in /raid/home/sahilm/anaconda3/envs/nlp/lib/python3.10/site-packages (from nvidia-cublas-cu11==11.10.3.66->torch==1.13.1) (75.1.0)\n",
            "Requirement already satisfied: wheel in /raid/home/sahilm/anaconda3/envs/nlp/lib/python3.10/site-packages (from nvidia-cublas-cu11==11.10.3.66->torch==1.13.1) (0.44.0)\n",
            "Requirement already satisfied: charset-normalizer<4,>=2 in /raid/home/sahilm/anaconda3/envs/nlp/lib/python3.10/site-packages (from requests->torchtext==0.14.1) (3.3.2)\n",
            "Requirement already satisfied: idna<4,>=2.5 in /raid/home/sahilm/anaconda3/envs/nlp/lib/python3.10/site-packages (from requests->torchtext==0.14.1) (3.10)\n",
            "Requirement already satisfied: urllib3<3,>=1.21.1 in /raid/home/sahilm/anaconda3/envs/nlp/lib/python3.10/site-packages (from requests->torchtext==0.14.1) (2.2.3)\n",
            "Requirement already satisfied: certifi>=2017.4.17 in /raid/home/sahilm/anaconda3/envs/nlp/lib/python3.10/site-packages (from requests->torchtext==0.14.1) (2024.8.30)\n",
            "Using cached torch-1.13.1-cp310-cp310-manylinux1_x86_64.whl (887.5 MB)\n",
            "Using cached torchtext-0.14.1-cp310-cp310-manylinux1_x86_64.whl (2.0 MB)\n",
            "Using cached numpy-2.1.1-cp310-cp310-manylinux_2_17_x86_64.manylinux2014_x86_64.whl (16.3 MB)\n",
            "Installing collected packages: numpy, torch, torchtext\n",
            "\u001b[31mERROR: pip's dependency resolver does not currently take into account all the packages that are installed. This behaviour is the source of the following dependency conflicts.\n",
            "gensim 4.3.3 requires numpy<2.0,>=1.18.5, but you have numpy 2.1.1 which is incompatible.\u001b[0m\u001b[31m\n",
            "\u001b[0mSuccessfully installed numpy-2.1.1 torch-1.13.1 torchtext-0.14.1\n",
            "Requirement already satisfied: torchdata==0.5.1 in /raid/home/sahilm/anaconda3/envs/nlp/lib/python3.10/site-packages (0.5.1)\n",
            "Requirement already satisfied: urllib3>=1.25 in /raid/home/sahilm/anaconda3/envs/nlp/lib/python3.10/site-packages (from torchdata==0.5.1) (2.2.3)\n",
            "Requirement already satisfied: requests in /raid/home/sahilm/anaconda3/envs/nlp/lib/python3.10/site-packages (from torchdata==0.5.1) (2.32.3)\n",
            "Requirement already satisfied: portalocker>=2.0.0 in /raid/home/sahilm/anaconda3/envs/nlp/lib/python3.10/site-packages (from torchdata==0.5.1) (2.10.1)\n",
            "Requirement already satisfied: torch==1.13.1 in /raid/home/sahilm/anaconda3/envs/nlp/lib/python3.10/site-packages (from torchdata==0.5.1) (1.13.1)\n",
            "Requirement already satisfied: typing-extensions in /raid/home/sahilm/anaconda3/envs/nlp/lib/python3.10/site-packages (from torch==1.13.1->torchdata==0.5.1) (4.12.2)\n",
            "Requirement already satisfied: nvidia-cuda-runtime-cu11==11.7.99 in /raid/home/sahilm/anaconda3/envs/nlp/lib/python3.10/site-packages (from torch==1.13.1->torchdata==0.5.1) (11.7.99)\n",
            "Requirement already satisfied: nvidia-cudnn-cu11==8.5.0.96 in /raid/home/sahilm/anaconda3/envs/nlp/lib/python3.10/site-packages (from torch==1.13.1->torchdata==0.5.1) (8.5.0.96)\n",
            "Requirement already satisfied: nvidia-cublas-cu11==11.10.3.66 in /raid/home/sahilm/anaconda3/envs/nlp/lib/python3.10/site-packages (from torch==1.13.1->torchdata==0.5.1) (11.10.3.66)\n",
            "Requirement already satisfied: nvidia-cuda-nvrtc-cu11==11.7.99 in /raid/home/sahilm/anaconda3/envs/nlp/lib/python3.10/site-packages (from torch==1.13.1->torchdata==0.5.1) (11.7.99)\n",
            "Requirement already satisfied: setuptools in /raid/home/sahilm/anaconda3/envs/nlp/lib/python3.10/site-packages (from nvidia-cublas-cu11==11.10.3.66->torch==1.13.1->torchdata==0.5.1) (75.1.0)\n",
            "Requirement already satisfied: wheel in /raid/home/sahilm/anaconda3/envs/nlp/lib/python3.10/site-packages (from nvidia-cublas-cu11==11.10.3.66->torch==1.13.1->torchdata==0.5.1) (0.44.0)\n",
            "Requirement already satisfied: charset-normalizer<4,>=2 in /raid/home/sahilm/anaconda3/envs/nlp/lib/python3.10/site-packages (from requests->torchdata==0.5.1) (3.3.2)\n",
            "Requirement already satisfied: idna<4,>=2.5 in /raid/home/sahilm/anaconda3/envs/nlp/lib/python3.10/site-packages (from requests->torchdata==0.5.1) (3.10)\n",
            "Requirement already satisfied: certifi>=2017.4.17 in /raid/home/sahilm/anaconda3/envs/nlp/lib/python3.10/site-packages (from requests->torchdata==0.5.1) (2024.8.30)\n",
            "Requirement already satisfied: datasets in /raid/home/sahilm/anaconda3/envs/nlp/lib/python3.10/site-packages (3.0.0)\n",
            "Requirement already satisfied: filelock in /raid/home/sahilm/anaconda3/envs/nlp/lib/python3.10/site-packages (from datasets) (3.16.1)\n",
            "Requirement already satisfied: numpy>=1.17 in /raid/home/sahilm/anaconda3/envs/nlp/lib/python3.10/site-packages (from datasets) (2.1.1)\n",
            "Requirement already satisfied: pyarrow>=15.0.0 in /raid/home/sahilm/anaconda3/envs/nlp/lib/python3.10/site-packages (from datasets) (17.0.0)\n",
            "Requirement already satisfied: dill<0.3.9,>=0.3.0 in /raid/home/sahilm/anaconda3/envs/nlp/lib/python3.10/site-packages (from datasets) (0.3.8)\n",
            "Requirement already satisfied: pandas in /raid/home/sahilm/anaconda3/envs/nlp/lib/python3.10/site-packages (from datasets) (2.2.3)\n",
            "Requirement already satisfied: requests>=2.32.2 in /raid/home/sahilm/anaconda3/envs/nlp/lib/python3.10/site-packages (from datasets) (2.32.3)\n",
            "Requirement already satisfied: tqdm>=4.66.3 in /raid/home/sahilm/anaconda3/envs/nlp/lib/python3.10/site-packages (from datasets) (4.66.5)\n",
            "Requirement already satisfied: xxhash in /raid/home/sahilm/anaconda3/envs/nlp/lib/python3.10/site-packages (from datasets) (3.5.0)\n",
            "Requirement already satisfied: multiprocess in /raid/home/sahilm/anaconda3/envs/nlp/lib/python3.10/site-packages (from datasets) (0.70.16)\n",
            "Requirement already satisfied: fsspec<=2024.6.1,>=2023.1.0 in /raid/home/sahilm/anaconda3/envs/nlp/lib/python3.10/site-packages (from fsspec[http]<=2024.6.1,>=2023.1.0->datasets) (2024.6.1)\n",
            "Requirement already satisfied: aiohttp in /raid/home/sahilm/anaconda3/envs/nlp/lib/python3.10/site-packages (from datasets) (3.10.5)\n",
            "Requirement already satisfied: huggingface-hub>=0.22.0 in /raid/home/sahilm/anaconda3/envs/nlp/lib/python3.10/site-packages (from datasets) (0.25.1)\n",
            "Requirement already satisfied: packaging in /raid/home/sahilm/anaconda3/envs/nlp/lib/python3.10/site-packages (from datasets) (24.1)\n",
            "Requirement already satisfied: pyyaml>=5.1 in /raid/home/sahilm/anaconda3/envs/nlp/lib/python3.10/site-packages (from datasets) (6.0.2)\n",
            "Requirement already satisfied: aiohappyeyeballs>=2.3.0 in /raid/home/sahilm/anaconda3/envs/nlp/lib/python3.10/site-packages (from aiohttp->datasets) (2.4.0)\n",
            "Requirement already satisfied: aiosignal>=1.1.2 in /raid/home/sahilm/anaconda3/envs/nlp/lib/python3.10/site-packages (from aiohttp->datasets) (1.3.1)\n",
            "Requirement already satisfied: attrs>=17.3.0 in /raid/home/sahilm/anaconda3/envs/nlp/lib/python3.10/site-packages (from aiohttp->datasets) (24.2.0)\n",
            "Requirement already satisfied: frozenlist>=1.1.1 in /raid/home/sahilm/anaconda3/envs/nlp/lib/python3.10/site-packages (from aiohttp->datasets) (1.4.1)\n",
            "Requirement already satisfied: multidict<7.0,>=4.5 in /raid/home/sahilm/anaconda3/envs/nlp/lib/python3.10/site-packages (from aiohttp->datasets) (6.1.0)\n",
            "Requirement already satisfied: yarl<2.0,>=1.0 in /raid/home/sahilm/anaconda3/envs/nlp/lib/python3.10/site-packages (from aiohttp->datasets) (1.11.1)\n",
            "Requirement already satisfied: async-timeout<5.0,>=4.0 in /raid/home/sahilm/anaconda3/envs/nlp/lib/python3.10/site-packages (from aiohttp->datasets) (4.0.3)\n",
            "Requirement already satisfied: typing-extensions>=3.7.4.3 in /raid/home/sahilm/anaconda3/envs/nlp/lib/python3.10/site-packages (from huggingface-hub>=0.22.0->datasets) (4.12.2)\n",
            "Requirement already satisfied: charset-normalizer<4,>=2 in /raid/home/sahilm/anaconda3/envs/nlp/lib/python3.10/site-packages (from requests>=2.32.2->datasets) (3.3.2)\n",
            "Requirement already satisfied: idna<4,>=2.5 in /raid/home/sahilm/anaconda3/envs/nlp/lib/python3.10/site-packages (from requests>=2.32.2->datasets) (3.10)\n",
            "Requirement already satisfied: urllib3<3,>=1.21.1 in /raid/home/sahilm/anaconda3/envs/nlp/lib/python3.10/site-packages (from requests>=2.32.2->datasets) (2.2.3)\n",
            "Requirement already satisfied: certifi>=2017.4.17 in /raid/home/sahilm/anaconda3/envs/nlp/lib/python3.10/site-packages (from requests>=2.32.2->datasets) (2024.8.30)\n",
            "Requirement already satisfied: python-dateutil>=2.8.2 in /raid/home/sahilm/anaconda3/envs/nlp/lib/python3.10/site-packages (from pandas->datasets) (2.9.0)\n",
            "Requirement already satisfied: pytz>=2020.1 in /raid/home/sahilm/anaconda3/envs/nlp/lib/python3.10/site-packages (from pandas->datasets) (2024.2)\n",
            "Requirement already satisfied: tzdata>=2022.7 in /raid/home/sahilm/anaconda3/envs/nlp/lib/python3.10/site-packages (from pandas->datasets) (2024.1)\n",
            "Requirement already satisfied: six>=1.5 in /raid/home/sahilm/anaconda3/envs/nlp/lib/python3.10/site-packages (from python-dateutil>=2.8.2->pandas->datasets) (1.16.0)\n",
            "Collecting numpy==1.26.4\n",
            "  Using cached numpy-1.26.4-cp310-cp310-manylinux_2_17_x86_64.manylinux2014_x86_64.whl.metadata (61 kB)\n",
            "Using cached numpy-1.26.4-cp310-cp310-manylinux_2_17_x86_64.manylinux2014_x86_64.whl (18.2 MB)\n",
            "Installing collected packages: numpy\n",
            "  Attempting uninstall: numpy\n",
            "    Found existing installation: numpy 2.1.1\n",
            "    Uninstalling numpy-2.1.1:\n",
            "      Successfully uninstalled numpy-2.1.1\n",
            "Successfully installed numpy-1.26.4\n"
          ]
        }
      ],
      "source": [
        "# !pip install portalocker #make sure you install the library and restart the session\n",
        "# !pip uninstall torch torchtext numpy -y\n",
        "# !pip install torch==1.13.1 torchtext==0.14.1\n",
        "# !pip install torchdata==0.5.1\n",
        "# !pip install datasets\n",
        "# !pip install numpy==1.26.4"
      ]
    },
    {
      "cell_type": "code",
      "execution_count": 2,
      "metadata": {
        "id": "_pTSKA5fiVQs"
      },
      "outputs": [
        {
          "name": "stderr",
          "output_type": "stream",
          "text": [
            "/raid/home/sahilm/anaconda3/envs/nlp/lib/python3.10/site-packages/tqdm/auto.py:21: TqdmWarning: IProgress not found. Please update jupyter and ipywidgets. See https://ipywidgets.readthedocs.io/en/stable/user_install.html\n",
            "  from .autonotebook import tqdm as notebook_tqdm\n"
          ]
        }
      ],
      "source": [
        "# importing the necessary libraries\n",
        "import torch\n",
        "from functools import partial\n",
        "import torch.nn as nn\n",
        "from torch.utils.data import DataLoader\n",
        "from torchtext.data import to_map_style_dataset\n",
        "from torchtext.data.utils import get_tokenizer\n",
        "from torchtext.vocab import build_vocab_from_iterator\n",
        "# from torchtext.datasets import WikiText2\n",
        "from datasets import load_dataset\n",
        "\n",
        "import torch.optim as optim\n",
        "from torch.optim.lr_scheduler import ReduceLROnPlateau\n",
        "\n",
        "import os\n",
        "import numpy as np\n",
        "import json\n",
        "import argparse\n",
        "import random\n",
        "import re\n",
        "from collections import Counter"
      ]
    },
    {
      "cell_type": "code",
      "execution_count": 3,
      "metadata": {},
      "outputs": [],
      "source": [
        "os.environ[\"CUDA_VISIBLE_DEVICES\"]=\"6\""
      ]
    },
    {
      "cell_type": "markdown",
      "metadata": {
        "id": "6Lu8GMxMlZ0f"
      },
      "source": [
        "> **In the following code the add your hyperparameters for the network.**"
      ]
    },
    {
      "cell_type": "code",
      "execution_count": 4,
      "metadata": {
        "id": "RZeXkPW6URMu"
      },
      "outputs": [],
      "source": [
        "# Initialization\n",
        "\n",
        "\n",
        "\"\"\"choose your hyperparameter and see the difference in performance\"\"\"\n",
        "\n",
        "# ADD YOUR CODE HERE\n",
        "\n",
        "# CHANGE THE None VALUES TO YOUR DESIRED VALUES\n",
        "# Please free to play with these hyperparameters to see the effects on the\n",
        "# quality of generated embeddings\n",
        "\n",
        "\n",
        "SKIPGRAM_N_WORDS = 3 # the length of the context on each side (k)\n",
        "\n",
        "MIN_WORD_FREQUENCY = 60 # only words with a minimum word frequency considered\n",
        "MAX_SEQUENCE_LENGTH = None # sentences with length more than this value truncated\n",
        "\n",
        "EMBED_DIMENSION = 128 # dimension of the word2vec vectors\n",
        "\n",
        "EMBED_MAX_NORM = None"
      ]
    },
    {
      "cell_type": "code",
      "execution_count": 5,
      "metadata": {
        "id": "FxyJ0Q1fT62V"
      },
      "outputs": [],
      "source": [
        "def get_english_tokenizer():\n",
        "    \"\"\"\n",
        "    Documentation:\n",
        "    https://pytorch.org/text/stable/_modules/torchtext/data/utils.html#get_tokenizer\n",
        "    \"\"\"\n",
        "    tokenizer = get_tokenizer(\"basic_english\", language=\"en\")\n",
        "    return tokenizer\n",
        "\n",
        "def get_data_iterator(ds_name, ds_type, data_dir):\n",
        "    \"\"\"\n",
        "    input dataset used:\n",
        "    https://paperswithcode.com/dataset/wikitext-2\n",
        "    This is directly imported from PyTorch.\n",
        "    \"\"\"\n",
        "\n",
        "    ds = load_dataset(\"Salesforce/wikitext\", \"wikitext-2-raw-v1\", split=ds_type)\n",
        "    text_data = [item['text'] for item in ds]\n",
        "    # print(text_data[0])\n",
        "    data_iter = to_map_style_dataset(text_data)\n",
        "\n",
        "    # data_iter = WikiText2(root=data_dir, split=(ds_type))\n",
        "    # data_iter = to_map_style_dataset(data_iter)\n",
        "\n",
        "    return data_iter\n",
        "\n",
        "def build_vocab(data_iter, tokenizer):\n",
        "    \"\"\"Builds vocabulary from iterator\"\"\"\n",
        "\n",
        "    vocab = build_vocab_from_iterator(\n",
        "        map(tokenizer, data_iter),\n",
        "        specials=[\"<unk>\"], #adding special tokens to the vocabulary\n",
        "        min_freq=MIN_WORD_FREQUENCY,\n",
        "    )\n",
        "    vocab.set_default_index(vocab[\"<unk>\"])\n",
        "    return vocab\n",
        "\n",
        "def collate_skipgram(batch, text_pipeline):\n",
        "    batch_input, batch_output = [], []\n",
        "\n",
        "    for text in batch:\n",
        "        text_tokens_ids = text_pipeline(text)\n",
        "\n",
        "        if len(text_tokens_ids) < SKIPGRAM_N_WORDS * 2 + 1:\n",
        "            continue\n",
        "\n",
        "        if MAX_SEQUENCE_LENGTH:\n",
        "            text_tokens_ids = text_tokens_ids[:MAX_SEQUENCE_LENGTH]\n",
        "\n",
        "        for idx in range(len(text_tokens_ids)):\n",
        "            center_word = text_tokens_ids[idx]\n",
        "            context_words = text_tokens_ids[max(0, idx - SKIPGRAM_N_WORDS):idx] + \\\n",
        "                            text_tokens_ids[idx + 1:min(len(text_tokens_ids), idx + SKIPGRAM_N_WORDS + 1)]\n",
        "\n",
        "            for context_word in context_words:\n",
        "                batch_input.append(center_word)\n",
        "                batch_output.append(context_word)\n",
        "\n",
        "    batch_input = torch.tensor(batch_input, dtype=torch.long)\n",
        "    batch_output = torch.tensor(batch_output, dtype=torch.long)\n",
        "\n",
        "    return batch_input, batch_output\n",
        "\n",
        "\n",
        "def get_dataloader_and_vocab(\n",
        "    model_name, ds_name, ds_type, data_dir, batch_size, shuffle, vocab=None\n",
        "    ):\n",
        "    \"\"\"\n",
        "    Prepares a DataLoader and builds a vocabulary for the dataset.\n",
        "    model_name: Name of the model to be used\n",
        "    ds_name: Name of the dataset\n",
        "    ds_type: Type of the dataset (e.g., train, test)\n",
        "    data_dir: Directory where the dataset is stored\n",
        "    batch_size: Size of each batch\n",
        "    vocab: An existing vocabulary, if available\n",
        "\n",
        "    \"\"\"\n",
        "\n",
        "    data_iter = get_data_iterator(ds_name, ds_type, data_dir)\n",
        "    tokenizer = get_english_tokenizer()\n",
        "\n",
        "    if not vocab:\n",
        "        vocab = build_vocab(data_iter, tokenizer)\n",
        "\n",
        "    text_pipeline = lambda x: vocab(tokenizer(x))\n",
        "\n",
        "    # collate_fn = collate_skipgram\n",
        "    collate_fn = partial(collate_skipgram,text_pipeline=text_pipeline,)\n",
        "\n",
        "\n",
        "    # creates a DataLoader for the dataset\n",
        "\n",
        "    \"\"\"\n",
        "    dataloader documentation\n",
        "    https://pytorch.org/docs/stable/data.html#torch.utils.data.DataLoader\n",
        "\n",
        "    \"\"\"\n",
        "    dataloader = DataLoader(\n",
        "        data_iter,\n",
        "        batch_size=batch_size,\n",
        "        shuffle=shuffle,\n",
        "        # collate_fn=partial(collate_fn, text_pipeline=text_pipeline),\n",
        "        collate_fn=collate_fn,\n",
        "        )\n",
        "\n",
        "    return dataloader, vocab\n"
      ]
    },
    {
      "cell_type": "markdown",
      "metadata": {
        "id": "-8Ap0SHCloMj"
      },
      "source": [
        "### Initialize the SkipGram Model\n",
        "\n",
        " **Complete the `initialization` and `forward` function in the following  SkipGram_Model class**"
      ]
    },
    {
      "cell_type": "code",
      "execution_count": 11,
      "metadata": {
        "id": "2NNvSmAgYydH"
      },
      "outputs": [],
      "source": [
        "class SkipGram_Model(nn.Module):\n",
        "    \"\"\"\n",
        "    Implementation of Skip-Gram model described in paper:\n",
        "    https://arxiv.org/abs/1301.3781\n",
        "    \"\"\"\n",
        "    def __init__(self, vocab_size: int):\n",
        "        super(SkipGram_Model, self).__init__()\n",
        "\n",
        "        \"\"\"define the embedding and the linear layer of the network\"\"\"\n",
        "        # this is the initialization for the layers in the skipgram model\n",
        "\n",
        "        # ADD YOUR CODE HERE\n",
        "        if EMBED_MAX_NORM:\n",
        "          self.embedding = nn.Embedding(num_embeddings=vocab_size, embedding_dim=EMBED_DIMENSION, max_norm=EMBED_MAX_NORM)\n",
        "        else:\n",
        "          self.embedding = nn.Embedding(num_embeddings=vocab_size, embedding_dim=EMBED_DIMENSION)\n",
        "        self.linear = nn.Linear(in_features=EMBED_DIMENSION, out_features=vocab_size)\n",
        "        # self.linear = nn.Embedding(num_embeddings=EMBED_DIMENSION, embedding_dim=vocab_size)\n",
        "\n",
        "        # Initialize the weights of the embedding layer\n",
        "        nn.init.xavier_uniform_(self.embedding.weight)\n",
        "        # nn.init.uniform_(self.embedding.weight, a=0.0, b=0.5)\n",
        "\n",
        "        # Initialize the weights of the linear layer\n",
        "        nn.init.xavier_uniform_(self.linear.weight)\n",
        "        # nn.init.uniform_(self.linear.weight, a=0.0, b=0.5)\n",
        "\n",
        "\n",
        "\n",
        "    def forward(self, inputs_):\n",
        "        \"\"\"define forward function\"\"\"\n",
        "        # ADD YOUR CODE HERE\n",
        "\n",
        "        # return the output of your final layer to find the minimize the loss\n",
        "\n",
        "        embedded = self.embedding(inputs_)\n",
        "        logits = self.linear(embedded)\n",
        "        return logits\n",
        "\n",
        "    def get_word_embedding(self):\n",
        "        \"\"\" return the associated word embeddings for center words \"\"\"\n",
        "\n",
        "        # ADD YOUR CODE HERE\n",
        "\n",
        "        # return the normalized embeddings as a 2D numpy array (in word2vec models,\n",
        "        # the vector associated with the center word is considered\n",
        "        # word embedding)\n",
        "\n",
        "        word_embeddings = self.embedding.weight.data.cpu().numpy()\n",
        "        normalized_embeddings = word_embeddings / np.linalg.norm(word_embeddings, axis=1, keepdims=True)\n",
        "        return normalized_embeddings"
      ]
    },
    {
      "cell_type": "markdown",
      "metadata": {
        "id": "fcqxAiTSlwbw"
      },
      "source": [
        "> **The following is the Trainer class for the skip-gram model. Add your code for the `training` and `validation` loops.**"
      ]
    },
    {
      "cell_type": "code",
      "execution_count": 12,
      "metadata": {
        "id": "_wSYVSMlZFwA"
      },
      "outputs": [],
      "source": [
        "class Trainer:\n",
        "    \"\"\"Main class for model training\"\"\"\n",
        "\n",
        "    # NOTE: you are free to add additional inputs/functions\n",
        "    # to the trainer class to make training better\n",
        "    # make sure to define and add it within the input\n",
        "    # and initialization if you are using any additional inputs\n",
        "    # for usage in the function\n",
        "\n",
        "    def __init__(self,model,epochs,train_dataloader,val_dataloader,criterion,optimizer,device,model_dir,model_name,):\n",
        "        self.model = model\n",
        "        self.epochs = epochs\n",
        "        self.train_dataloader = train_dataloader\n",
        "        self.val_dataloader = val_dataloader\n",
        "        self.criterion = criterion\n",
        "        self.optimizer = optimizer\n",
        "        self.device = device\n",
        "        self.model_dir = model_dir\n",
        "        self.model_name = model_name\n",
        "        self.loss = {\"train\": [], \"val\": []}\n",
        "        self.model.to(self.device)\n",
        "        # self.scheduler = ReduceLROnPlateau(optimizer, mode='min', patience=3)\n",
        "        self.best_val_loss = np.inf\n",
        "\n",
        "\n",
        "    # ADD YOUR CODE HERE FOR TRAINING & VALIDATION\n",
        "    # This implementation need not include negative sampling.\n",
        "\n",
        "    # NOTE: you can add additional functions to make training better\n",
        "\n",
        "    def train(self):\n",
        "      \"\"\"Training loop\"\"\"\n",
        "      for epoch in range(self.epochs):\n",
        "            train_loss = self._train_epoch(epoch)\n",
        "            val_loss = self.evaluate()\n",
        "\n",
        "            # Adjust learning rate based on validation loss\n",
        "            # self.scheduler.step(val_loss)\n",
        "\n",
        "            print(f\"Epoch {epoch+1}/{self.epochs}, Train Loss: {train_loss:.4f}, Val Loss: {val_loss:.4f}\")\n",
        "\n",
        "            # Save model if validation loss has improved\n",
        "            if val_loss < self.best_val_loss:\n",
        "                self.best_val_loss = val_loss\n",
        "                self.save_model()\n",
        "\n",
        "      # Save final loss\n",
        "      self.save_loss()\n",
        "\n",
        "\n",
        "    def _train_epoch(self, epoch):\n",
        "        \"\"\"Single epoch training\"\"\"\n",
        "        self.model.train()\n",
        "        running_loss = 0.0\n",
        "        for inputs, targets in self.train_dataloader:\n",
        "            inputs, targets = inputs.to(self.device), targets.to(self.device)\n",
        "\n",
        "            self.optimizer.zero_grad()\n",
        "\n",
        "            outputs = self.model(inputs)\n",
        "\n",
        "            loss = self.criterion(outputs, targets)\n",
        "            loss.backward()\n",
        "            self.optimizer.step()\n",
        "\n",
        "            running_loss += loss.item()\n",
        "\n",
        "        # Calculate average training loss for the epoch\n",
        "        train_loss = running_loss / len(self.train_dataloader)\n",
        "        self.loss[\"train\"].append(train_loss)\n",
        "        return train_loss\n",
        "\n",
        "    def evaluate(self):\n",
        "        \"\"\"Validation loop\"\"\"\n",
        "        self.model.eval()\n",
        "        running_loss = 0.0\n",
        "        with torch.no_grad():\n",
        "            for inputs, targets in self.val_dataloader:\n",
        "                inputs, targets = inputs.to(self.device), targets.to(self.device)\n",
        "                outputs = self.model(inputs)\n",
        "                loss = self.criterion(outputs, targets)\n",
        "                running_loss += loss.item()\n",
        "\n",
        "        val_loss = running_loss / len(self.val_dataloader)\n",
        "        self.loss[\"val\"].append(val_loss)\n",
        "        return val_loss\n",
        "\n",
        "    def save_model(self):\n",
        "        \"\"\"\n",
        "        Save final model to directory\n",
        "\n",
        "        \"\"\"\n",
        "        model_path = os.path.join(self.model_dir, \"model.pt\")\n",
        "        torch.save(self.model, model_path)\n",
        "\n",
        "    def save_loss(self):\n",
        "        \"\"\"\n",
        "        Save train/val loss as json file to the directory\n",
        "\n",
        "        \"\"\"\n",
        "        loss_path = os.path.join(self.model_dir, \"loss.json\")\n",
        "        with open(loss_path, \"w\") as fp:\n",
        "            json.dump(self.loss, fp)"
      ]
    },
    {
      "cell_type": "markdown",
      "metadata": {
        "id": "2BgM-DGTl4qy"
      },
      "source": [
        "> **The following code block defines the various parameters and nomenclature for the training and saving of the skip-gram model. Add numerical values for the `specified hyperparameters`.**"
      ]
    },
    {
      "cell_type": "code",
      "execution_count": 13,
      "metadata": {
        "id": "LzoqreghaSgc"
      },
      "outputs": [],
      "source": [
        "# ADD YOUR CODE HERE\n",
        "# CHANGE THE None VALUES TO YOUR DESIRED VALUES\n",
        "\n",
        "model_name = 'skipgram'\n",
        "\n",
        "dataset = 'WikiText2'\n",
        "data_dir = './data/'\n",
        "train_batch_size = 1\n",
        "val_batch_size = 1\n",
        "shuffle = True\n",
        "\n",
        "optimizer = optimizer = optim.Adam\n",
        "best_val_loss = float('inf')  # Initialize with a large value\n",
        "best_val_loss = None\n",
        "learning_rate = 0.001\n",
        "epochs = 5\n",
        "\n",
        "# ADD YOUR CODE HERE\n",
        "# change the directory name with your SAPname and SRno\n",
        "\n",
        "model_dir = 'LATHIYA_SAHIL_MANISHBHAI_22691'"
      ]
    },
    {
      "cell_type": "code",
      "execution_count": 14,
      "metadata": {},
      "outputs": [
        {
          "name": "stdout",
          "output_type": "stream",
          "text": [
            "Vocabulary size: 3530\n"
          ]
        }
      ],
      "source": [
        "# import shutil\n",
        "\n",
        "# # Remove old directory if it exists\n",
        "# if os.path.exists(model_dir):\n",
        "#     shutil.rmtree(model_dir)\n",
        "\n",
        "# # Create model directory\n",
        "# os.makedirs(model_dir)\n",
        "\n",
        "train_dataloader, vocab = get_dataloader_and_vocab(model_name=model_name,ds_name=dataset,ds_type=\"train\",data_dir=data_dir,batch_size=train_batch_size,shuffle=shuffle,vocab=None,)\n",
        "\n",
        "val_dataloader, _ = get_dataloader_and_vocab(model_name=model_name,ds_name=dataset,ds_type=\"validation\",data_dir=data_dir,batch_size=val_batch_size,shuffle=shuffle,vocab=vocab,)\n",
        "\n",
        "vocab_size = len(vocab.get_stoi())\n",
        "print(f\"Vocabulary size: {vocab_size}\")\n"
      ]
    },
    {
      "cell_type": "markdown",
      "metadata": {
        "id": "DSE1qsvxmEdP"
      },
      "source": [
        "> **The following code block is used to train and save the model. Add the code wherever required**"
      ]
    },
    {
      "cell_type": "code",
      "execution_count": 15,
      "metadata": {
        "id": "_zMDRVHMZWO6"
      },
      "outputs": [
        {
          "name": "stdout",
          "output_type": "stream",
          "text": [
            "Epoch 1/5, Train Loss: nan, Val Loss: nan\n",
            "Epoch 2/5, Train Loss: nan, Val Loss: nan\n",
            "Epoch 3/5, Train Loss: nan, Val Loss: nan\n",
            "Epoch 4/5, Train Loss: nan, Val Loss: nan\n",
            "Epoch 5/5, Train Loss: nan, Val Loss: nan\n",
            "Training finished.\n",
            "Model artifacts saved to folder: LATHIYA_SAHIL_MANISHBHAI_22691\n"
          ]
        }
      ],
      "source": [
        "model_class = SkipGram_Model\n",
        "model = model_class(vocab_size=vocab_size)\n",
        "\n",
        "# ADD YOUR CODE HERE\n",
        "# You'll have to specify the loss criterion\n",
        "# Your loss function would depend upon whether you\n",
        "# choose to train with negative sampling or not\n",
        "# either of the two are valid choices\n",
        "\n",
        "criterion = nn.CrossEntropyLoss()\n",
        "\n",
        "# ADD YOUR CODE HERE\n",
        "# You'll have to specify the optimizer here\n",
        "optimizer = optim.Adam(model.parameters(), lr=learning_rate)\n",
        "\n",
        "device = torch.device(\"cuda\" if torch.cuda.is_available() else \"cpu\")\n",
        "\n",
        "# NOTE: if you are **optionally** using additional options for the trainer\n",
        "# (e.g., a training scheduler), please add them below.\n",
        "\n",
        "\n",
        "trainer = Trainer(model=model,epochs=epochs,train_dataloader=train_dataloader,val_dataloader=val_dataloader,criterion=criterion,optimizer=optimizer,device=device,model_dir=model_dir,model_name=model_name,)\n",
        "\n",
        "trainer.train()\n",
        "print(\"Training finished.\")\n",
        "\n",
        "trainer.save_model()\n",
        "trainer.save_loss()\n",
        "vocab_path = os.path.join(model_dir, \"vocab.pt\")\n",
        "torch.save(vocab, vocab_path)\n",
        "print(\"Model artifacts saved to folder:\", model_dir)"
      ]
    },
    {
      "cell_type": "markdown",
      "metadata": {
        "id": "R1PKIac1mMsH"
      },
      "source": [
        "### Let us analyze the performance of the model\n",
        "\n",
        "You'll be evaluated on the quality of the word representations as judged by the word similarity test, and word analogy tests.\n"
      ]
    },
    {
      "cell_type": "code",
      "execution_count": 16,
      "metadata": {
        "id": "x-K93nQt5CTZ"
      },
      "outputs": [],
      "source": [
        "#@title Evaluation\n",
        "\n",
        "import numpy as np\n",
        "import pandas as pd\n",
        "import torch\n",
        "import sys\n",
        "from sklearn.metrics.pairwise import cosine_similarity\n",
        "import seaborn as sns\n",
        "from sklearn.decomposition import PCA\n",
        "import matplotlib.pyplot as plt"
      ]
    },
    {
      "cell_type": "code",
      "execution_count": 17,
      "metadata": {
        "id": "80d1lRiD7ms4"
      },
      "outputs": [
        {
          "name": "stdout",
          "output_type": "stream",
          "text": [
            "SkipGram_Model(\n",
            "  (embedding): Embedding(3530, 128)\n",
            "  (linear): Linear(in_features=128, out_features=3530, bias=True)\n",
            ")\n"
          ]
        }
      ],
      "source": [
        "# ADD YOUR CODE HERE\n",
        "# change the directory name with your SAPname and SRno\n",
        "\n",
        "folder = \"LATHIYA_SAHIL_MANISHBHAI_22691\"\n",
        "device = torch.device(\"cuda\" if torch.cuda.is_available() else \"cpu\")\n",
        "\n",
        "# load the saved model\n",
        "model = torch.load(f\"{folder}/model.pt\", map_location=device)\n",
        "vocab = torch.load(f\"{folder}/vocab.pt\")\n",
        "print(model)"
      ]
    },
    {
      "cell_type": "code",
      "execution_count": 18,
      "metadata": {
        "id": "Wc9AMn5GVUKZ"
      },
      "outputs": [],
      "source": [
        "word_embeddings = model.get_word_embedding()\n",
        "\n",
        "# ADD YOUR CODE HERE\n",
        "# change the directory name with your SAPname and SRno\n",
        "\n",
        "# Save the embeddings to the folder\n",
        "np.save('LATHIYA_SAHIL_MANISHBHAI_22691/word_embeddings.npy', word_embeddings)"
      ]
    },
    {
      "cell_type": "markdown",
      "metadata": {
        "id": "21pPrbet--qJ"
      },
      "source": [
        "Once the embeddings are trained, we can use a few words to evaluate some desirable properties of word representations.\n",
        "\n",
        "For instance, whether similar words are indeed similar in the high-dimensional space?"
      ]
    },
    {
      "cell_type": "code",
      "execution_count": 19,
      "metadata": {
        "id": "E7hq6o3z777b"
      },
      "outputs": [],
      "source": [
        "words = ['king', 'queen', 'river', 'water', 'ocean', 'tree', 'plant', 'happy', 'glad', 'mother', 'daughter']"
      ]
    },
    {
      "cell_type": "markdown",
      "metadata": {
        "id": "f5kAEr9rmYym"
      },
      "source": [
        "> **Write a code to find the similarity of the each word in words with eachother**"
      ]
    },
    {
      "cell_type": "code",
      "execution_count": 20,
      "metadata": {
        "id": "dCXVzRrh8Dvu"
      },
      "outputs": [],
      "source": [
        "def get_word_similarity(words):\n",
        "    \"\"\"\n",
        "    This function takes the words as input and outputs the word vectors\n",
        "    corresponding to the words obtained from your word2vec model and the\n",
        "    similarity of every word with each other.\n",
        "    word2vec is the embedding matrix corresponding to the given words and\n",
        "    this has to be returned as a numpy array to apply PCA on it whereas,\n",
        "    w2v_similarity[i][j] should contain the similarity of word i with word j\n",
        "\n",
        "    \"\"\"\n",
        "    # ADD YOUR CODE HERE\n",
        "\n",
        "    # you'll have to compute the similarity matrix for the words given above\n",
        "    # Initialize an empty list to store word vectors\n",
        "    word_vectors = []\n",
        "\n",
        "    # Iterate through the words to get their embeddings\n",
        "    for word in words:\n",
        "        # Get the embedding vector for the word from your word2vec model\n",
        "        # Assuming you have a function get_embedding(word) that returns the embedding for a word\n",
        "        try:\n",
        "          embedding = model.get_word_embedding()[vocab[word]]\n",
        "          word_vectors.append(embedding)\n",
        "        except KeyError:\n",
        "            print(f\"Word '{word}' not found in the word2vec model.\")\n",
        "            # If word not found, use zero vector as placeholder\n",
        "            word_vectors.append(np.zeros_like(model.get_word_embedding()[vocab['is']]))\n",
        "\n",
        "    # Convert the list of word vectors to a numpy array\n",
        "    word2vec = np.array(word_vectors)\n",
        "\n",
        "    w2v_similarity = cosine_similarity(word2vec)\n",
        "    np.fill_diagonal(w2v_similarity, 0)\n",
        "\n",
        "    return word2vec, w2v_similarity\n",
        "\n",
        "word2vec, w2v_similarity = get_word_similarity(words)"
      ]
    },
    {
      "cell_type": "markdown",
      "metadata": {
        "id": "ZrUjGgstmhx8"
      },
      "source": [
        "Let us visualize this similarity matrix. The similarity of each word with other words in words is displayed as a pandas dataframe and as a heatmap"
      ]
    },
    {
      "cell_type": "code",
      "execution_count": 21,
      "metadata": {
        "id": "q8OVhSUZ8LZT"
      },
      "outputs": [
        {
          "data": {
            "text/html": [
              "<div>\n",
              "<style scoped>\n",
              "    .dataframe tbody tr th:only-of-type {\n",
              "        vertical-align: middle;\n",
              "    }\n",
              "\n",
              "    .dataframe tbody tr th {\n",
              "        vertical-align: top;\n",
              "    }\n",
              "\n",
              "    .dataframe thead th {\n",
              "        text-align: right;\n",
              "    }\n",
              "</style>\n",
              "<table border=\"1\" class=\"dataframe\">\n",
              "  <thead>\n",
              "    <tr style=\"text-align: right;\">\n",
              "      <th></th>\n",
              "      <th>king</th>\n",
              "      <th>queen</th>\n",
              "      <th>river</th>\n",
              "      <th>water</th>\n",
              "      <th>ocean</th>\n",
              "      <th>tree</th>\n",
              "      <th>plant</th>\n",
              "      <th>happy</th>\n",
              "      <th>glad</th>\n",
              "      <th>mother</th>\n",
              "      <th>daughter</th>\n",
              "    </tr>\n",
              "  </thead>\n",
              "  <tbody>\n",
              "    <tr>\n",
              "      <th>king</th>\n",
              "      <td>0.000000</td>\n",
              "      <td>0.499311</td>\n",
              "      <td>0.341778</td>\n",
              "      <td>0.093786</td>\n",
              "      <td>0.001442</td>\n",
              "      <td>0.087722</td>\n",
              "      <td>0.087634</td>\n",
              "      <td>0.158050</td>\n",
              "      <td>0.277747</td>\n",
              "      <td>0.338615</td>\n",
              "      <td>0.366607</td>\n",
              "    </tr>\n",
              "    <tr>\n",
              "      <th>queen</th>\n",
              "      <td>0.499311</td>\n",
              "      <td>0.000000</td>\n",
              "      <td>0.293994</td>\n",
              "      <td>0.134136</td>\n",
              "      <td>0.117744</td>\n",
              "      <td>0.140923</td>\n",
              "      <td>0.041714</td>\n",
              "      <td>0.063016</td>\n",
              "      <td>0.269097</td>\n",
              "      <td>0.385757</td>\n",
              "      <td>0.293349</td>\n",
              "    </tr>\n",
              "    <tr>\n",
              "      <th>river</th>\n",
              "      <td>0.341778</td>\n",
              "      <td>0.293994</td>\n",
              "      <td>0.000000</td>\n",
              "      <td>0.428460</td>\n",
              "      <td>0.375998</td>\n",
              "      <td>0.317738</td>\n",
              "      <td>0.274023</td>\n",
              "      <td>0.087248</td>\n",
              "      <td>0.286160</td>\n",
              "      <td>0.142851</td>\n",
              "      <td>0.071761</td>\n",
              "    </tr>\n",
              "    <tr>\n",
              "      <th>water</th>\n",
              "      <td>0.093786</td>\n",
              "      <td>0.134136</td>\n",
              "      <td>0.428460</td>\n",
              "      <td>0.000000</td>\n",
              "      <td>0.399596</td>\n",
              "      <td>0.348424</td>\n",
              "      <td>0.444572</td>\n",
              "      <td>0.097065</td>\n",
              "      <td>0.367812</td>\n",
              "      <td>0.096702</td>\n",
              "      <td>0.003794</td>\n",
              "    </tr>\n",
              "    <tr>\n",
              "      <th>ocean</th>\n",
              "      <td>0.001442</td>\n",
              "      <td>0.117744</td>\n",
              "      <td>0.375998</td>\n",
              "      <td>0.399596</td>\n",
              "      <td>0.000000</td>\n",
              "      <td>0.396672</td>\n",
              "      <td>0.280191</td>\n",
              "      <td>0.079256</td>\n",
              "      <td>0.202996</td>\n",
              "      <td>-0.035306</td>\n",
              "      <td>-0.041917</td>\n",
              "    </tr>\n",
              "    <tr>\n",
              "      <th>tree</th>\n",
              "      <td>0.087722</td>\n",
              "      <td>0.140923</td>\n",
              "      <td>0.317738</td>\n",
              "      <td>0.348424</td>\n",
              "      <td>0.396672</td>\n",
              "      <td>0.000000</td>\n",
              "      <td>0.496122</td>\n",
              "      <td>0.203867</td>\n",
              "      <td>0.334892</td>\n",
              "      <td>0.224416</td>\n",
              "      <td>0.190963</td>\n",
              "    </tr>\n",
              "    <tr>\n",
              "      <th>plant</th>\n",
              "      <td>0.087634</td>\n",
              "      <td>0.041714</td>\n",
              "      <td>0.274023</td>\n",
              "      <td>0.444572</td>\n",
              "      <td>0.280191</td>\n",
              "      <td>0.496122</td>\n",
              "      <td>0.000000</td>\n",
              "      <td>0.082223</td>\n",
              "      <td>0.181744</td>\n",
              "      <td>0.089089</td>\n",
              "      <td>0.028570</td>\n",
              "    </tr>\n",
              "    <tr>\n",
              "      <th>happy</th>\n",
              "      <td>0.158050</td>\n",
              "      <td>0.063016</td>\n",
              "      <td>0.087248</td>\n",
              "      <td>0.097065</td>\n",
              "      <td>0.079256</td>\n",
              "      <td>0.203867</td>\n",
              "      <td>0.082223</td>\n",
              "      <td>0.000000</td>\n",
              "      <td>0.087291</td>\n",
              "      <td>0.234396</td>\n",
              "      <td>0.293322</td>\n",
              "    </tr>\n",
              "    <tr>\n",
              "      <th>glad</th>\n",
              "      <td>0.277747</td>\n",
              "      <td>0.269097</td>\n",
              "      <td>0.286160</td>\n",
              "      <td>0.367812</td>\n",
              "      <td>0.202996</td>\n",
              "      <td>0.334892</td>\n",
              "      <td>0.181744</td>\n",
              "      <td>0.087291</td>\n",
              "      <td>0.000000</td>\n",
              "      <td>0.275767</td>\n",
              "      <td>0.158642</td>\n",
              "    </tr>\n",
              "    <tr>\n",
              "      <th>mother</th>\n",
              "      <td>0.338615</td>\n",
              "      <td>0.385757</td>\n",
              "      <td>0.142851</td>\n",
              "      <td>0.096702</td>\n",
              "      <td>-0.035306</td>\n",
              "      <td>0.224416</td>\n",
              "      <td>0.089089</td>\n",
              "      <td>0.234396</td>\n",
              "      <td>0.275767</td>\n",
              "      <td>0.000000</td>\n",
              "      <td>0.595856</td>\n",
              "    </tr>\n",
              "    <tr>\n",
              "      <th>daughter</th>\n",
              "      <td>0.366607</td>\n",
              "      <td>0.293349</td>\n",
              "      <td>0.071761</td>\n",
              "      <td>0.003794</td>\n",
              "      <td>-0.041917</td>\n",
              "      <td>0.190963</td>\n",
              "      <td>0.028570</td>\n",
              "      <td>0.293322</td>\n",
              "      <td>0.158642</td>\n",
              "      <td>0.595856</td>\n",
              "      <td>0.000000</td>\n",
              "    </tr>\n",
              "  </tbody>\n",
              "</table>\n",
              "</div>"
            ],
            "text/plain": [
              "              king     queen     river     water     ocean      tree  \\\n",
              "king      0.000000  0.499311  0.341778  0.093786  0.001442  0.087722   \n",
              "queen     0.499311  0.000000  0.293994  0.134136  0.117744  0.140923   \n",
              "river     0.341778  0.293994  0.000000  0.428460  0.375998  0.317738   \n",
              "water     0.093786  0.134136  0.428460  0.000000  0.399596  0.348424   \n",
              "ocean     0.001442  0.117744  0.375998  0.399596  0.000000  0.396672   \n",
              "tree      0.087722  0.140923  0.317738  0.348424  0.396672  0.000000   \n",
              "plant     0.087634  0.041714  0.274023  0.444572  0.280191  0.496122   \n",
              "happy     0.158050  0.063016  0.087248  0.097065  0.079256  0.203867   \n",
              "glad      0.277747  0.269097  0.286160  0.367812  0.202996  0.334892   \n",
              "mother    0.338615  0.385757  0.142851  0.096702 -0.035306  0.224416   \n",
              "daughter  0.366607  0.293349  0.071761  0.003794 -0.041917  0.190963   \n",
              "\n",
              "             plant     happy      glad    mother  daughter  \n",
              "king      0.087634  0.158050  0.277747  0.338615  0.366607  \n",
              "queen     0.041714  0.063016  0.269097  0.385757  0.293349  \n",
              "river     0.274023  0.087248  0.286160  0.142851  0.071761  \n",
              "water     0.444572  0.097065  0.367812  0.096702  0.003794  \n",
              "ocean     0.280191  0.079256  0.202996 -0.035306 -0.041917  \n",
              "tree      0.496122  0.203867  0.334892  0.224416  0.190963  \n",
              "plant     0.000000  0.082223  0.181744  0.089089  0.028570  \n",
              "happy     0.082223  0.000000  0.087291  0.234396  0.293322  \n",
              "glad      0.181744  0.087291  0.000000  0.275767  0.158642  \n",
              "mother    0.089089  0.234396  0.275767  0.000000  0.595856  \n",
              "daughter  0.028570  0.293322  0.158642  0.595856  0.000000  "
            ]
          },
          "execution_count": 21,
          "metadata": {},
          "output_type": "execute_result"
        }
      ],
      "source": [
        "pd.DataFrame(w2v_similarity, columns = words, index = words)"
      ]
    },
    {
      "cell_type": "code",
      "execution_count": 22,
      "metadata": {
        "id": "9AWL0kqAmqsK"
      },
      "outputs": [
        {
          "data": {
            "text/plain": [
              "<Axes: >"
            ]
          },
          "execution_count": 22,
          "metadata": {},
          "output_type": "execute_result"
        },
        {
          "data": {
            "image/png": "[encoded data removed]",
            "text/plain": [
              "<Figure size 640x480 with 2 Axes>"
            ]
          },
          "metadata": {},
          "output_type": "display_data"
        }
      ],
      "source": [
        "sns.heatmap(pd.DataFrame(w2v_similarity, columns = words, index = words))"
      ]
    },
    {
      "cell_type": "markdown",
      "metadata": {
        "id": "V12MD_EumuA7"
      },
      "source": [
        "The size of the words embedding are reduced to to 2D and displayed as a scatterplot for analysis"
      ]
    },
    {
      "cell_type": "code",
      "execution_count": 23,
      "metadata": {
        "id": "AF9qSiwNmwzw"
      },
      "outputs": [],
      "source": [
        "# Create a 2-dimensional PCA model of the word vectors using the scikit-learn PCA class\n",
        "# n_components in PCA specifies the no.of dimensions\n",
        "pca = PCA(n_components=2)\n",
        "\n",
        "# Fit and transform the vectors using PCA model\n",
        "reduced_w2v = pca.fit_transform(word2vec)"
      ]
    },
    {
      "cell_type": "code",
      "execution_count": 24,
      "metadata": {
        "id": "kS9QF8AE8MTG"
      },
      "outputs": [
        {
          "data": {
            "image/png": "[encoded data removed]",
            "text/plain": [
              "<Figure size 800x500 with 1 Axes>"
            ]
          },
          "metadata": {},
          "output_type": "display_data"
        }
      ],
      "source": [
        "plt.figure(figsize=(8,5))\n",
        "plt.scatter(reduced_w2v[:,0],reduced_w2v[:,1], s = 12, color = 'red')\n",
        "plt.xlim([-2,2])\n",
        "plt.ylim([-2,2])\n",
        "x, y = reduced_w2v[:,0] , reduced_w2v[:,1]\n",
        "offset = 0.5\n",
        "for i in range(len(x)):\n",
        "    label = words[i]\n",
        "    xi, yi = x[i], y[i]\n",
        "    plt.annotate(label, (xi, yi), xytext=(xi + offset, yi + offset),\n",
        "                 textcoords='offset points', ha='center', va='center')\n",
        "\n",
        "plt.savefig(\"word_similarity.png\")"
      ]
    },
    {
      "cell_type": "markdown",
      "metadata": {
        "id": "p4w3UUE1m4W_"
      },
      "source": [
        "The 10 most similar word to the given word is calculated in the following code blocks"
      ]
    },
    {
      "cell_type": "code",
      "execution_count": 25,
      "metadata": {
        "id": "cvXS4uzd8O7W"
      },
      "outputs": [],
      "source": [
        "def get_top_similar(word: str, topN: int = 10):\n",
        "\n",
        "    \"\"\"\n",
        "    This function calculates the topN words similar to the input word.\n",
        "    If the word is not in vocabulary, then similarity is not calculated.\n",
        "    If the word is in the vocabulary, then the dot product of the embedding\n",
        "    matrix and the word vector is calculated. The topN words are selected.\n",
        "    \"\"\"\n",
        "    word_id = vocab[word]\n",
        "    if word_id == 0:\n",
        "        print(\"Out of vocabulary word\")\n",
        "        return\n",
        "\n",
        "    word_vec = model.get_word_embedding()[word_id]\n",
        "\n",
        "    word_vec = np.reshape(word_vec, (len(word_vec), 1))\n",
        "\n",
        "    dists = np.matmul(model.get_word_embedding(), word_vec).flatten()\n",
        "    topN_ids = np.argsort(-dists)[1 : topN + 1]\n",
        "\n",
        "    topN_dict = {}\n",
        "    for sim_word_id in topN_ids:\n",
        "        sim_word = vocab.lookup_token(sim_word_id)\n",
        "        topN_dict[sim_word] = dists[sim_word_id]\n",
        "\n",
        "    return topN_dict"
      ]
    },
    {
      "cell_type": "code",
      "execution_count": 26,
      "metadata": {
        "id": "atY4cy0J8Tfi"
      },
      "outputs": [
        {
          "name": "stdout",
          "output_type": "stream",
          "text": [
            "EVALUATION: most similar words to archaeological: 0.552\n",
            "EVALUATION: most similar words to survey: 0.544\n",
            "EVALUATION: most similar words to somalia: 0.536\n",
            "EVALUATION: most similar words to china: 0.524\n",
            "EVALUATION: most similar words to varanasi: 0.514\n",
            "EVALUATION: most similar words to sites: 0.488\n",
            "EVALUATION: most similar words to capital: 0.488\n",
            "EVALUATION: most similar words to haifa: 0.486\n",
            "EVALUATION: most similar words to argentina: 0.482\n",
            "EVALUATION: most similar words to africa: 0.480\n"
          ]
        }
      ],
      "source": [
        "for word, sim in get_top_similar(\"india\").items():\n",
        "   print(\"EVALUATION: most similar words to {}: {:.3f}\".format(word, sim))"
      ]
    },
    {
      "cell_type": "markdown",
      "metadata": {
        "id": "Iz-elU-5nAL1"
      },
      "source": [
        "### Analogy Tests\n",
        "\n",
        "Analogy tests include questions of the format a:b::x:?, such tests are used to intrinsically evaluate the quality of word vectors.\n",
        "\n",
        "Here's one example."
      ]
    },
    {
      "cell_type": "code",
      "execution_count": 27,
      "metadata": {
        "id": "-KrTVR2BnC9N"
      },
      "outputs": [
        {
          "name": "stdout",
          "output_type": "stream",
          "text": [
            "king: 0.949\n",
            "supreme: 0.712\n",
            "henry: 0.665\n",
            "governor: 0.636\n",
            "lord: 0.622\n"
          ]
        }
      ],
      "source": [
        "def get_analogy(word_1, word_2, word_3):\n",
        "\n",
        "  \"\"\"\n",
        "  top 5 most analgous vector calculated correspond to a set similar to\n",
        "  man: woman :: king: ? . This is calculated similar to the above case.\n",
        "\n",
        "  \"\"\"\n",
        "\n",
        "  emb1 = model.get_word_embedding()[vocab[word_1]]\n",
        "  emb2 = model.get_word_embedding()[vocab[word_2]]\n",
        "  emb3 = model.get_word_embedding()[vocab[word_3]]\n",
        "\n",
        "  emb4 = emb1 - emb2 + emb3\n",
        "\n",
        "  # compute dot products between 'emb4' and all word embeddings in the model.\n",
        "  emb4 = np.reshape(emb4, (len(emb4), 1))\n",
        "  dot_product = np.matmul(model.get_word_embedding(), emb4).flatten()\n",
        "\n",
        "  top5 = np.argsort(-dot_product)[:5]\n",
        "\n",
        "  return top5, dot_product\n",
        "\n",
        "top5_analogy, dot_product = get_analogy('king', 'man', 'woman')\n",
        "\n",
        "for word_id in top5_analogy:\n",
        "    print(\"{}: {:.3f}\".format(vocab.lookup_token(word_id), dot_product[word_id]))"
      ]
    },
    {
      "cell_type": "markdown",
      "metadata": {
        "id": "VKTVUVPEnGVN"
      },
      "source": [
        "The model performance will be evaluated based on an analogy output for the top 5 words. The following code will used to evaluate the performance of the model on the analogies dataset. We will measure how often the correct answer is a part of the top 5 options."
      ]
    },
    {
      "cell_type": "code",
      "execution_count": 28,
      "metadata": {
        "colab": {
          "base_uri": "https://localhost:8080/"
        },
        "id": "f2hbpb_h5KgN",
        "outputId": "51993f16-153e-48e9-b218-6c399b32db41"
      },
      "outputs": [],
      "source": [
        "# Downloading the file containing a few analogies.\n",
        "# We will change the contents of this file while testing.\n",
        "\n",
        "# !wget -O analogies.txt \"https://drive.google.com/uc?export=download&id=1jHx25dECegjtRKBB587nEfHiJesrH0g2\""
      ]
    },
    {
      "cell_type": "code",
      "execution_count": 29,
      "metadata": {
        "id": "obbMdoMe1Tw7"
      },
      "outputs": [
        {
          "name": "stdout",
          "output_type": "stream",
          "text": [
            "cnt:  9582\n"
          ]
        }
      ],
      "source": [
        "import random\n",
        "random.seed(42)\n",
        "\n",
        "def load_and_sample_analogies(file_path, sample_size=5000):\n",
        "    with open(file_path, 'r') as file:\n",
        "        analogies = []\n",
        "        cnt = 0\n",
        "        for line in file:\n",
        "            # Split the line into words and ensure it has exactly 4 elements\n",
        "            parts = line.strip().split()\n",
        "            if len(parts) == 4:\n",
        "                analogies.append(parts)\n",
        "                cnt +=1\n",
        "        # Sample analogies\n",
        "        sampled_analogies = random.sample(analogies, min(sample_size, len(analogies)))\n",
        "        # sampled_analogies = analogies\n",
        "        print(\"cnt: \",cnt)\n",
        "        return sampled_analogies\n",
        "\n",
        "# Path to your text file\n",
        "# NOTE: analogies used for grading could be slightly different\n",
        "file_path = 'analogies.txt'\n",
        "\n",
        "# Load and sample analogies\n",
        "sampled_analogy_dataset = load_and_sample_analogies(file_path)"
      ]
    },
    {
      "cell_type": "code",
      "execution_count": 30,
      "metadata": {
        "id": "TuLvO2cV1W2j"
      },
      "outputs": [
        {
          "name": "stdout",
          "output_type": "stream",
          "text": [
            "EVALUATION: Precision at 5 for the analogy test is 0.3756218905472637\n"
          ]
        }
      ],
      "source": [
        "def get_word_id(word, vocab):\n",
        "    \"\"\"check for out of vocabulary items\"\"\"\n",
        "    return vocab[word] if word in vocab else 0\n",
        "\n",
        "def analogy_score(analogy_dataset):\n",
        "    \"\"\"\n",
        "    The top5 analogous words calculated for each set of words for your\n",
        "    implementation of word2vec and compared with an existing dataset to\n",
        "    calculate if the expected word is in the first 5 predictions.\n",
        "    \"\"\"\n",
        "    \n",
        "    correct = 0\n",
        "    total = 0\n",
        "    # not_accounted_in_acc = 0\n",
        "    for a, b, c, d in analogy_dataset:\n",
        "        # Convert words to lowercase\n",
        "        a, b, c, d = a.lower(), b.lower(), c.lower(), d.lower()\n",
        "\n",
        "        # Check if any word is out of vocabulary\n",
        "        if 0 in [get_word_id(word, vocab) for word in [a, b, c, d]]:\n",
        "            # not_accounted_in_acc += 1\n",
        "            continue\n",
        "\n",
        "        #finding the first five words that are analogous to the given set\n",
        "        top5_analogy, dot_product = get_analogy(c,a,b)\n",
        "\n",
        "        predicted_words = []\n",
        "\n",
        "        for word_id in top5_analogy:\n",
        "            word = vocab.lookup_token(word_id)\n",
        "            predicted_words.append(word)\n",
        "\n",
        "        if d in predicted_words:\n",
        "            correct += 1\n",
        "\n",
        "        total += 1\n",
        "\n",
        "    # print(\"Total: \", len(analogy_dataset))\n",
        "    # print(\"not_accounted_in_acc: \", not_accounted_in_acc)\n",
        "    # print(\"accounted_in_acc: \", len(analogy_dataset) - not_accounted_in_acc)\n",
        "    precision_at_5 = correct / total if total > 0 else 0\n",
        "    return precision_at_5\n",
        "\n",
        "precision_at_5 = analogy_score(sampled_analogy_dataset)\n",
        "print(\"EVALUATION: Precision at 5 for the analogy test is\", precision_at_5)"
      ]
    },
    {
      "cell_type": "markdown",
      "metadata": {
        "id": "VwjiemeOnKvj"
      },
      "source": [
        "#### Google's word2vec for comparison\n",
        "\n",
        "In the following code blocks, the pretained word2vec developed by Google is used to analyze the quality of the embedding. The word2vec model can be downloaded from [here](https://drive.google.com/file/d/0B7XkCwpI5KDYNlNUTTlSS21pQmM/edit?usp=sharing)."
      ]
    },
    {
      "cell_type": "code",
      "execution_count": 31,
      "metadata": {
        "colab": {
          "base_uri": "https://localhost:8080/"
        },
        "id": "2KhiakvJ3wwe",
        "outputId": "b833be2d-b1b8-4417-c575-454b40191526"
      },
      "outputs": [
        {
          "name": "stdout",
          "output_type": "stream",
          "text": [
            "--2024-09-24 00:40:42--  https://drive.usercontent.google.com/download?id=12Oicgl5scdJLR7t8jbzKpW6o8QkYOylg&export=download&authuser=0&confirm=t&uuid=99ffa115-71d1-4603-8ada-24aecd5754f2&at=AO7h07fIUUdOJz8VSxBtMbbK1Izw%3A1727111383325\n",
            "Resolving drive.usercontent.google.com (drive.usercontent.google.com)... 142.250.192.97, 2404:6800:4009:82a::2001\n",
            "Connecting to drive.usercontent.google.com (drive.usercontent.google.com)|142.250.192.97|:443... connected.\n",
            "HTTP request sent, awaiting response... 200 OK\n",
            "Length: 3644258522 (3.4G) [application/octet-stream]\n",
            "Saving to: ‘GoogleNews-vectors-negative300.bin’\n",
            "\n",
            "GoogleNews-vectors- 100%[===================>]   3.39G  35.9MB/s    in 2m 28s  \n",
            "\n",
            "2024-09-24 00:43:13 (23.5 MB/s) - ‘GoogleNews-vectors-negative300.bin’ saved [3644258522/3644258522]\n",
            "\n"
          ]
        }
      ],
      "source": [
        "# !wget -O GoogleNews-vectors-negative300.bin \"https://drive.google.com/uc?export=download&id=12Oicgl5scdJLR7t8jbzKpW6o8QkYOylg\"\n",
        "!wget --no-check-certificate 'https://drive.usercontent.google.com/download?id=12Oicgl5scdJLR7t8jbzKpW6o8QkYOylg&export=download&authuser=0&confirm=t&uuid=99ffa115-71d1-4603-8ada-24aecd5754f2&at=AO7h07fIUUdOJz8VSxBtMbbK1Izw%3A1727111383325' -O GoogleNews-vectors-negative300.bin"
      ]
    },
    {
      "cell_type": "code",
      "execution_count": 32,
      "metadata": {
        "colab": {
          "base_uri": "https://localhost:8080/",
          "height": 67,
          "referenced_widgets": [
            "c8bca5cf80de4948ad86ed9b08469b75",
            "3d0983ae13a34bd9a1635309867cb9cd",
            "c8fbb3415ad941d0b138bc5743f77ac3",
            "b2eadb5f487e45f983771b9c4601ee78",
            "89b7ea42b66e4ea5952f13cea491b9bf",
            "c3053e733101432985d8a9e480d2a29b",
            "de9d707864cd47c28ce47383890c023b",
            "499b50c69b2a43e18aacf4214ecd5b7c",
            "27d2150a6c6a4291bcfee282f491df88",
            "b81d3faa449543a183922d2eafefe47e",
            "93633618c22a48b88dda45059886daf4"
          ]
        },
        "id": "KNMjvv4K2xd0",
        "outputId": "3b03f980-b74e-4a11-cd70-7d62f60007e6"
      },
      "outputs": [],
      "source": [
        "import bs4\n",
        "import requests\n",
        "import tqdm.auto as tqdm\n",
        "\n",
        "def download_from_drive(drive_link, target_path):\n",
        "    response = requests.get(drive_link, stream=True)\n",
        "    response.raise_for_status()\n",
        "    if 'html' in response.headers['Content-Type']:\n",
        "        response = requests.get(drive_link)\n",
        "        response.raise_for_status()\n",
        "        page = bs4.BeautifulSoup(response.text, features=\"lxml\")\n",
        "        if form := page.find('form', id='download-form'):\n",
        "            id   = form.select_one(\"input[name='id']\")['value']\n",
        "            uuid = form.select_one(\"input[name='uuid']\")['value']\n",
        "            data = { 'confirm': 't', 'export': 'download', 'id': id, 'uuid': uuid }\n",
        "            response = requests.get(page.find('form')['action'], params=data, stream=True)\n",
        "            response.raise_for_status()\n",
        "    with open(target_path, 'wb+') as file:\n",
        "        with tqdm.tqdm(\n",
        "            total=int(response.headers['Content-Length']),\n",
        "            unit='B', unit_scale=True, unit_divisor=1024\n",
        "        ) as pbar:\n",
        "            for chunk in response.iter_content(chunk_size=4096):\n",
        "                file.write(chunk)\n",
        "                pbar.update(len(chunk))\n",
        "    print(\"Downloaded to\", target_path)\n",
        "\n",
        "drive_link = \"https://drive.google.com/uc?export=download&id=12Oicgl5scdJLR7t8jbzKpW6o8QkYOylg\"\n",
        "target_path = \"GoogleNews-vectors-negative300.bin\"\n",
        "\n",
        "# download_from_drive(drive_link, target_path)"
      ]
    },
    {
      "cell_type": "code",
      "execution_count": 33,
      "metadata": {
        "id": "mzoahZOUnQIO"
      },
      "outputs": [],
      "source": [
        "import gensim\n",
        "\n",
        "# Load Google news 300 vectors file\n",
        "model = gensim.models.KeyedVectors.load_word2vec_format('GoogleNews-vectors-negative300.bin', binary=True, limit=500000)"
      ]
    },
    {
      "cell_type": "code",
      "execution_count": 34,
      "metadata": {
        "id": "ep71XY238WpV"
      },
      "outputs": [],
      "source": [
        "# List of words to plot the embeddings\n",
        "words = ['king', 'queen', 'river', 'water', 'ocean', 'tree', 'plant', 'happy', 'glad', 'mother', 'daughter']"
      ]
    },
    {
      "cell_type": "markdown",
      "metadata": {
        "id": "kLUtqxPrnWV9"
      },
      "source": [
        "> **Write a code to find the similarity of the each word in words with eachother using original word2vec**"
      ]
    },
    {
      "cell_type": "code",
      "execution_count": 35,
      "metadata": {
        "id": "4QLcfJvvnYl9"
      },
      "outputs": [],
      "source": [
        "from gensim.models import KeyedVectors\n",
        "import numpy as np\n",
        "def get_word_similarity(words,word2vec_model_path='GoogleNews-vectors-negative300.bin'):\n",
        "    \"\"\"\n",
        "    This function takes the words as input and outputs the word vectors\n",
        "    corresponding to the words using Google's word2vec and the similarity of\n",
        "    every word with eachother. word2vec is the embedding matrix for the words\n",
        "    given above w2v_similarity[i][j] should contain the similarity of word i with j\n",
        "\n",
        "    \"\"\"\n",
        "    # ADD YOUR CODE HERE\n",
        "\n",
        "    # you'll have to compute the similarity matrix for the words given above\n",
        "    # Load the pre-trained word2vec model\n",
        "    word2vec_model = KeyedVectors.load_word2vec_format(word2vec_model_path, binary=True)\n",
        "\n",
        "    # Initialize an empty list to store word vectors\n",
        "    word_vectors = []\n",
        "\n",
        "    # Iterate through the words to get their embeddings\n",
        "    for word in words:\n",
        "        if word in word2vec_model:\n",
        "            embedding = word2vec_model[word]\n",
        "            word_vectors.append(embedding)\n",
        "\n",
        "    # Convert the list of word vectors to a numpy array\n",
        "    word2vec = np.array(word_vectors)\n",
        "\n",
        "    # Compute the similarity matrix for the words\n",
        "    w2v_similarity = np.zeros((len(words), len(words)))\n",
        "    for i in range(len(words)):\n",
        "        for j in range(len(words)):\n",
        "            if i != j:\n",
        "                similarity = word2vec_model.similarity(words[i], words[j])\n",
        "                w2v_similarity[i][j] = similarity\n",
        "\n",
        "    return word2vec, w2v_similarity\n",
        "\n",
        "word2vec, w2v_similarity = get_word_similarity(words)"
      ]
    },
    {
      "cell_type": "markdown",
      "metadata": {
        "id": "GLQn4B_snbfg"
      },
      "source": [
        "The similarity of each word with other words in words is displayed as a pandas dataframe and as a heatmap"
      ]
    },
    {
      "cell_type": "code",
      "execution_count": 36,
      "metadata": {
        "id": "z3-NqzVunhg1"
      },
      "outputs": [
        {
          "data": {
            "text/html": [
              "<div>\n",
              "<style scoped>\n",
              "    .dataframe tbody tr th:only-of-type {\n",
              "        vertical-align: middle;\n",
              "    }\n",
              "\n",
              "    .dataframe tbody tr th {\n",
              "        vertical-align: top;\n",
              "    }\n",
              "\n",
              "    .dataframe thead th {\n",
              "        text-align: right;\n",
              "    }\n",
              "</style>\n",
              "<table border=\"1\" class=\"dataframe\">\n",
              "  <thead>\n",
              "    <tr style=\"text-align: right;\">\n",
              "      <th></th>\n",
              "      <th>king</th>\n",
              "      <th>queen</th>\n",
              "      <th>river</th>\n",
              "      <th>water</th>\n",
              "      <th>ocean</th>\n",
              "      <th>tree</th>\n",
              "      <th>plant</th>\n",
              "      <th>happy</th>\n",
              "      <th>glad</th>\n",
              "      <th>mother</th>\n",
              "      <th>daughter</th>\n",
              "    </tr>\n",
              "  </thead>\n",
              "  <tbody>\n",
              "    <tr>\n",
              "      <th>king</th>\n",
              "      <td>0.000000</td>\n",
              "      <td>0.651096</td>\n",
              "      <td>0.086155</td>\n",
              "      <td>0.035606</td>\n",
              "      <td>0.065263</td>\n",
              "      <td>0.109141</td>\n",
              "      <td>0.057788</td>\n",
              "      <td>0.113239</td>\n",
              "      <td>0.063524</td>\n",
              "      <td>0.160052</td>\n",
              "      <td>0.148813</td>\n",
              "    </tr>\n",
              "    <tr>\n",
              "      <th>queen</th>\n",
              "      <td>0.651096</td>\n",
              "      <td>0.000000</td>\n",
              "      <td>0.103566</td>\n",
              "      <td>0.018264</td>\n",
              "      <td>0.099157</td>\n",
              "      <td>0.112222</td>\n",
              "      <td>0.088803</td>\n",
              "      <td>0.121214</td>\n",
              "      <td>0.082538</td>\n",
              "      <td>0.288445</td>\n",
              "      <td>0.305139</td>\n",
              "    </tr>\n",
              "    <tr>\n",
              "      <th>river</th>\n",
              "      <td>0.086155</td>\n",
              "      <td>0.103566</td>\n",
              "      <td>0.000000</td>\n",
              "      <td>0.576898</td>\n",
              "      <td>0.477181</td>\n",
              "      <td>0.230746</td>\n",
              "      <td>0.201330</td>\n",
              "      <td>0.073289</td>\n",
              "      <td>0.071341</td>\n",
              "      <td>0.131063</td>\n",
              "      <td>0.116944</td>\n",
              "    </tr>\n",
              "    <tr>\n",
              "      <th>water</th>\n",
              "      <td>0.035606</td>\n",
              "      <td>0.018264</td>\n",
              "      <td>0.576898</td>\n",
              "      <td>0.000000</td>\n",
              "      <td>0.471691</td>\n",
              "      <td>0.196022</td>\n",
              "      <td>0.271738</td>\n",
              "      <td>0.067675</td>\n",
              "      <td>0.085623</td>\n",
              "      <td>0.110723</td>\n",
              "      <td>0.079457</td>\n",
              "    </tr>\n",
              "    <tr>\n",
              "      <th>ocean</th>\n",
              "      <td>0.065263</td>\n",
              "      <td>0.099157</td>\n",
              "      <td>0.477181</td>\n",
              "      <td>0.471691</td>\n",
              "      <td>0.000000</td>\n",
              "      <td>0.141859</td>\n",
              "      <td>0.067005</td>\n",
              "      <td>-0.000511</td>\n",
              "      <td>0.014122</td>\n",
              "      <td>0.105623</td>\n",
              "      <td>0.081207</td>\n",
              "    </tr>\n",
              "    <tr>\n",
              "      <th>tree</th>\n",
              "      <td>0.109141</td>\n",
              "      <td>0.112222</td>\n",
              "      <td>0.230746</td>\n",
              "      <td>0.196022</td>\n",
              "      <td>0.141859</td>\n",
              "      <td>0.000000</td>\n",
              "      <td>0.265187</td>\n",
              "      <td>0.076933</td>\n",
              "      <td>0.105760</td>\n",
              "      <td>0.188985</td>\n",
              "      <td>0.173518</td>\n",
              "    </tr>\n",
              "    <tr>\n",
              "      <th>plant</th>\n",
              "      <td>0.057788</td>\n",
              "      <td>0.088803</td>\n",
              "      <td>0.201330</td>\n",
              "      <td>0.271738</td>\n",
              "      <td>0.067005</td>\n",
              "      <td>0.265187</td>\n",
              "      <td>0.000000</td>\n",
              "      <td>-0.010519</td>\n",
              "      <td>-0.000679</td>\n",
              "      <td>0.148805</td>\n",
              "      <td>0.092466</td>\n",
              "    </tr>\n",
              "    <tr>\n",
              "      <th>happy</th>\n",
              "      <td>0.113239</td>\n",
              "      <td>0.121214</td>\n",
              "      <td>0.073289</td>\n",
              "      <td>0.067675</td>\n",
              "      <td>-0.000511</td>\n",
              "      <td>0.076933</td>\n",
              "      <td>-0.010519</td>\n",
              "      <td>0.000000</td>\n",
              "      <td>0.740889</td>\n",
              "      <td>0.119672</td>\n",
              "      <td>0.152536</td>\n",
              "    </tr>\n",
              "    <tr>\n",
              "      <th>glad</th>\n",
              "      <td>0.063524</td>\n",
              "      <td>0.082538</td>\n",
              "      <td>0.071341</td>\n",
              "      <td>0.085623</td>\n",
              "      <td>0.014122</td>\n",
              "      <td>0.105760</td>\n",
              "      <td>-0.000679</td>\n",
              "      <td>0.740889</td>\n",
              "      <td>0.000000</td>\n",
              "      <td>0.125566</td>\n",
              "      <td>0.181102</td>\n",
              "    </tr>\n",
              "    <tr>\n",
              "      <th>mother</th>\n",
              "      <td>0.160052</td>\n",
              "      <td>0.288445</td>\n",
              "      <td>0.131063</td>\n",
              "      <td>0.110723</td>\n",
              "      <td>0.105623</td>\n",
              "      <td>0.188985</td>\n",
              "      <td>0.148805</td>\n",
              "      <td>0.119672</td>\n",
              "      <td>0.125566</td>\n",
              "      <td>0.000000</td>\n",
              "      <td>0.870623</td>\n",
              "    </tr>\n",
              "    <tr>\n",
              "      <th>daughter</th>\n",
              "      <td>0.148813</td>\n",
              "      <td>0.305139</td>\n",
              "      <td>0.116944</td>\n",
              "      <td>0.079457</td>\n",
              "      <td>0.081207</td>\n",
              "      <td>0.173518</td>\n",
              "      <td>0.092466</td>\n",
              "      <td>0.152536</td>\n",
              "      <td>0.181102</td>\n",
              "      <td>0.870623</td>\n",
              "      <td>0.000000</td>\n",
              "    </tr>\n",
              "  </tbody>\n",
              "</table>\n",
              "</div>"
            ],
            "text/plain": [
              "              king     queen     river     water     ocean      tree  \\\n",
              "king      0.000000  0.651096  0.086155  0.035606  0.065263  0.109141   \n",
              "queen     0.651096  0.000000  0.103566  0.018264  0.099157  0.112222   \n",
              "river     0.086155  0.103566  0.000000  0.576898  0.477181  0.230746   \n",
              "water     0.035606  0.018264  0.576898  0.000000  0.471691  0.196022   \n",
              "ocean     0.065263  0.099157  0.477181  0.471691  0.000000  0.141859   \n",
              "tree      0.109141  0.112222  0.230746  0.196022  0.141859  0.000000   \n",
              "plant     0.057788  0.088803  0.201330  0.271738  0.067005  0.265187   \n",
              "happy     0.113239  0.121214  0.073289  0.067675 -0.000511  0.076933   \n",
              "glad      0.063524  0.082538  0.071341  0.085623  0.014122  0.105760   \n",
              "mother    0.160052  0.288445  0.131063  0.110723  0.105623  0.188985   \n",
              "daughter  0.148813  0.305139  0.116944  0.079457  0.081207  0.173518   \n",
              "\n",
              "             plant     happy      glad    mother  daughter  \n",
              "king      0.057788  0.113239  0.063524  0.160052  0.148813  \n",
              "queen     0.088803  0.121214  0.082538  0.288445  0.305139  \n",
              "river     0.201330  0.073289  0.071341  0.131063  0.116944  \n",
              "water     0.271738  0.067675  0.085623  0.110723  0.079457  \n",
              "ocean     0.067005 -0.000511  0.014122  0.105623  0.081207  \n",
              "tree      0.265187  0.076933  0.105760  0.188985  0.173518  \n",
              "plant     0.000000 -0.010519 -0.000679  0.148805  0.092466  \n",
              "happy    -0.010519  0.000000  0.740889  0.119672  0.152536  \n",
              "glad     -0.000679  0.740889  0.000000  0.125566  0.181102  \n",
              "mother    0.148805  0.119672  0.125566  0.000000  0.870623  \n",
              "daughter  0.092466  0.152536  0.181102  0.870623  0.000000  "
            ]
          },
          "execution_count": 36,
          "metadata": {},
          "output_type": "execute_result"
        }
      ],
      "source": [
        "import pandas as pd\n",
        "import seaborn as sns\n",
        "pd.DataFrame(w2v_similarity, columns = words, index = words)"
      ]
    },
    {
      "cell_type": "code",
      "execution_count": 37,
      "metadata": {
        "id": "koErrEInnjcd"
      },
      "outputs": [
        {
          "data": {
            "text/plain": [
              "<Axes: >"
            ]
          },
          "execution_count": 37,
          "metadata": {},
          "output_type": "execute_result"
        },
        {
          "data": {
            "image/png": "[encoded data removed]",
            "text/plain": [
              "<Figure size 640x480 with 2 Axes>"
            ]
          },
          "metadata": {},
          "output_type": "display_data"
        }
      ],
      "source": [
        "sns.heatmap(pd.DataFrame(w2v_similarity, columns = words, index = words))"
      ]
    },
    {
      "cell_type": "markdown",
      "metadata": {
        "id": "ptKTusGJnpLy"
      },
      "source": [
        "The size of the words embedding are reduced to to 2D and displayed as a scatterplot for analysis"
      ]
    },
    {
      "cell_type": "code",
      "execution_count": 38,
      "metadata": {
        "id": "ADEMWok8nrX0"
      },
      "outputs": [],
      "source": [
        "#PCA on word2vec embedding\n",
        "pca = PCA(n_components=2)\n",
        "\n",
        "reduced_w2v = pca.fit_transform(word2vec)"
      ]
    },
    {
      "cell_type": "code",
      "execution_count": 39,
      "metadata": {
        "id": "la2osFTxntIc"
      },
      "outputs": [
        {
          "data": {
            "image/png": "[encoded data removed]",
            "text/plain": [
              "<Figure size 800x500 with 1 Axes>"
            ]
          },
          "metadata": {},
          "output_type": "display_data"
        }
      ],
      "source": [
        "#plotting reduced order embeddings in a 2-D space\n",
        "\n",
        "plt.figure(figsize=(8,5))\n",
        "plt.scatter(reduced_w2v[:,0],reduced_w2v[:,1], s = 12, color = 'red')\n",
        "plt.xlim([-2.5,2.5])\n",
        "plt.ylim([-2.5,2.5])\n",
        "x, y = reduced_w2v[:,0] , reduced_w2v[:,1]\n",
        "for i in range(len(x)):\n",
        "    plt.annotate(words[i],xy=(x[i], y[i]),xytext=(x[i]+0.05,y[i]+0.05))"
      ]
    },
    {
      "cell_type": "code",
      "execution_count": 40,
      "metadata": {
        "id": "Whg_kv2QnvXW"
      },
      "outputs": [
        {
          "data": {
            "text/plain": [
              "[('indian', 0.6967039704322815),\n",
              " ('usa', 0.6836211085319519),\n",
              " ('pakistan', 0.681516706943512),\n",
              " ('chennai', 0.6675503253936768),\n",
              " ('america', 0.6589399576187134),\n",
              " ('sri_lanka', 0.64982008934021),\n",
              " ('canada', 0.6490967869758606),\n",
              " ('australia', 0.6368584036827087),\n",
              " ('mexico', 0.6239137649536133),\n",
              " ('uk', 0.6221641898155212)]"
            ]
          },
          "execution_count": 40,
          "metadata": {},
          "output_type": "execute_result"
        }
      ],
      "source": [
        "model.most_similar('india')"
      ]
    },
    {
      "cell_type": "markdown",
      "metadata": {
        "id": "fIx8JEMynzK5"
      },
      "source": [
        "Analogy test"
      ]
    },
    {
      "cell_type": "code",
      "execution_count": 41,
      "metadata": {
        "id": "N41c0AJKnzou"
      },
      "outputs": [],
      "source": [
        "def analogy(x1, x2, y1): #defining analogy function\n",
        "    result = model.most_similar(positive=[y1, x2], negative=[x1], topn = 5)\n",
        "    return result"
      ]
    },
    {
      "cell_type": "code",
      "execution_count": 42,
      "metadata": {
        "id": "sbEfS_7An3RF"
      },
      "outputs": [
        {
          "data": {
            "text/plain": [
              "[('queen', 0.7118193507194519),\n",
              " ('monarch', 0.6189674139022827),\n",
              " ('princess', 0.5902431011199951),\n",
              " ('crown_prince', 0.5499460697174072),\n",
              " ('prince', 0.5377321839332581)]"
            ]
          },
          "execution_count": 42,
          "metadata": {},
          "output_type": "execute_result"
        }
      ],
      "source": [
        "analogy('man', 'king', 'woman')"
      ]
    },
    {
      "cell_type": "code",
      "execution_count": 43,
      "metadata": {
        "id": "wbqo3EhNy952"
      },
      "outputs": [
        {
          "name": "stdout",
          "output_type": "stream",
          "text": [
            "EVALUATION: Precision at 5 for the analogy test with Google skip-gram model is 0.8748\n"
          ]
        }
      ],
      "source": [
        "def analogy_score(analogy_dataset):\n",
        "\n",
        "    \"\"\"\n",
        "    The top5 analogous words calculated for each set of words for Google's\n",
        "    word2vec and compared with an existing dataset to calculate if the word\n",
        "    is in the first 5 predictions.\n",
        "\n",
        "    \"\"\"\n",
        "    correct = 0\n",
        "    total = 0\n",
        "\n",
        "    for a, b, c, d in analogy_dataset:\n",
        "        # Convert words to lowercase\n",
        "        a, b, c, d = a.lower(), b.lower(), c.lower(), d.lower()\n",
        "\n",
        "        words_scores = analogy(a,b,c)\n",
        "\n",
        "        predicted_words = [item[0] for item in words_scores]\n",
        "\n",
        "        if d in predicted_words:\n",
        "            correct += 1\n",
        "\n",
        "        total += 1\n",
        "\n",
        "    precision_at_5 = correct / total if total > 0 else 0\n",
        "    return precision_at_5\n",
        "\n",
        "precision_at_5_Google = analogy_score(sampled_analogy_dataset)\n",
        "print(\"EVALUATION: Precision at 5 for the analogy test with Google skip-gram model is\", precision_at_5_Google)"
      ]
    }
  ],
  "metadata": {
    "colab": {
      "provenance": []
    },
    "kernelspec": {
      "display_name": "Python 3",
      "name": "python3"
    },
    "language_info": {
      "codemirror_mode": {
        "name": "ipython",
        "version": 3
      },
      "file_extension": ".py",
      "mimetype": "text/x-python",
      "name": "python",
      "nbconvert_exporter": "python",
      "pygments_lexer": "ipython3",
      "version": "3.10.15"
    },
    "widgets": {
      "application/vnd.jupyter.widget-state+json": {
        "27d2150a6c6a4291bcfee282f491df88": {
          "model_module": "@jupyter-widgets/controls",
          "model_module_version": "1.5.0",
          "model_name": "ProgressStyleModel",
          "state": {
            "_model_module": "@jupyter-widgets/controls",
            "_model_module_version": "1.5.0",
            "_model_name": "ProgressStyleModel",
            "_view_count": null,
            "_view_module": "@jupyter-widgets/base",
            "_view_module_version": "1.2.0",
            "_view_name": "StyleView",
            "bar_color": null,
            "description_width": ""
          }
        },
        "3d0983ae13a34bd9a1635309867cb9cd": {
          "model_module": "@jupyter-widgets/controls",
          "model_module_version": "1.5.0",
          "model_name": "HTMLModel",
          "state": {
            "_dom_classes": [],
            "_model_module": "@jupyter-widgets/controls",
            "_model_module_version": "1.5.0",
            "_model_name": "HTMLModel",
            "_view_count": null,
            "_view_module": "@jupyter-widgets/controls",
            "_view_module_version": "1.5.0",
            "_view_name": "HTMLView",
            "description": "",
            "description_tooltip": null,
            "layout": "IPY_MODEL_c3053e733101432985d8a9e480d2a29b",
            "placeholder": "​",
            "style": "IPY_MODEL_de9d707864cd47c28ce47383890c023b",
            "value": "100%"
          }
        },
        "499b50c69b2a43e18aacf4214ecd5b7c": {
          "model_module": "@jupyter-widgets/base",
          "model_module_version": "1.2.0",
          "model_name": "LayoutModel",
          "state": {
            "_model_module": "@jupyter-widgets/base",
            "_model_module_version": "1.2.0",
            "_model_name": "LayoutModel",
            "_view_count": null,
            "_view_module": "@jupyter-widgets/base",
            "_view_module_version": "1.2.0",
            "_view_name": "LayoutView",
            "align_content": null,
            "align_items": null,
            "align_self": null,
            "border": null,
            "bottom": null,
            "display": null,
            "flex": null,
            "flex_flow": null,
            "grid_area": null,
            "grid_auto_columns": null,
            "grid_auto_flow": null,
            "grid_auto_rows": null,
            "grid_column": null,
            "grid_gap": null,
            "grid_row": null,
            "grid_template_areas": null,
            "grid_template_columns": null,
            "grid_template_rows": null,
            "height": null,
            "justify_content": null,
            "justify_items": null,
            "left": null,
            "margin": null,
            "max_height": null,
            "max_width": null,
            "min_height": null,
            "min_width": null,
            "object_fit": null,
            "object_position": null,
            "order": null,
            "overflow": null,
            "overflow_x": null,
            "overflow_y": null,
            "padding": null,
            "right": null,
            "top": null,
            "visibility": null,
            "width": null
          }
        },
        "89b7ea42b66e4ea5952f13cea491b9bf": {
          "model_module": "@jupyter-widgets/base",
          "model_module_version": "1.2.0",
          "model_name": "LayoutModel",
          "state": {
            "_model_module": "@jupyter-widgets/base",
            "_model_module_version": "1.2.0",
            "_model_name": "LayoutModel",
            "_view_count": null,
            "_view_module": "@jupyter-widgets/base",
            "_view_module_version": "1.2.0",
            "_view_name": "LayoutView",
            "align_content": null,
            "align_items": null,
            "align_self": null,
            "border": null,
            "bottom": null,
            "display": null,
            "flex": null,
            "flex_flow": null,
            "grid_area": null,
            "grid_auto_columns": null,
            "grid_auto_flow": null,
            "grid_auto_rows": null,
            "grid_column": null,
            "grid_gap": null,
            "grid_row": null,
            "grid_template_areas": null,
            "grid_template_columns": null,
            "grid_template_rows": null,
            "height": null,
            "justify_content": null,
            "justify_items": null,
            "left": null,
            "margin": null,
            "max_height": null,
            "max_width": null,
            "min_height": null,
            "min_width": null,
            "object_fit": null,
            "object_position": null,
            "order": null,
            "overflow": null,
            "overflow_x": null,
            "overflow_y": null,
            "padding": null,
            "right": null,
            "top": null,
            "visibility": null,
            "width": null
          }
        },
        "93633618c22a48b88dda45059886daf4": {
          "model_module": "@jupyter-widgets/controls",
          "model_module_version": "1.5.0",
          "model_name": "DescriptionStyleModel",
          "state": {
            "_model_module": "@jupyter-widgets/controls",
            "_model_module_version": "1.5.0",
            "_model_name": "DescriptionStyleModel",
            "_view_count": null,
            "_view_module": "@jupyter-widgets/base",
            "_view_module_version": "1.2.0",
            "_view_name": "StyleView",
            "description_width": ""
          }
        },
        "b2eadb5f487e45f983771b9c4601ee78": {
          "model_module": "@jupyter-widgets/controls",
          "model_module_version": "1.5.0",
          "model_name": "HTMLModel",
          "state": {
            "_dom_classes": [],
            "_model_module": "@jupyter-widgets/controls",
            "_model_module_version": "1.5.0",
            "_model_name": "HTMLModel",
            "_view_count": null,
            "_view_module": "@jupyter-widgets/controls",
            "_view_module_version": "1.5.0",
            "_view_name": "HTMLView",
            "description": "",
            "description_tooltip": null,
            "layout": "IPY_MODEL_b81d3faa449543a183922d2eafefe47e",
            "placeholder": "​",
            "style": "IPY_MODEL_93633618c22a48b88dda45059886daf4",
            "value": " 3.39G/3.39G [01:08&lt;00:00, 56.6MB/s]"
          }
        },
        "b81d3faa449543a183922d2eafefe47e": {
          "model_module": "@jupyter-widgets/base",
          "model_module_version": "1.2.0",
          "model_name": "LayoutModel",
          "state": {
            "_model_module": "@jupyter-widgets/base",
            "_model_module_version": "1.2.0",
            "_model_name": "LayoutModel",
            "_view_count": null,
            "_view_module": "@jupyter-widgets/base",
            "_view_module_version": "1.2.0",
            "_view_name": "LayoutView",
            "align_content": null,
            "align_items": null,
            "align_self": null,
            "border": null,
            "bottom": null,
            "display": null,
            "flex": null,
            "flex_flow": null,
            "grid_area": null,
            "grid_auto_columns": null,
            "grid_auto_flow": null,
            "grid_auto_rows": null,
            "grid_column": null,
            "grid_gap": null,
            "grid_row": null,
            "grid_template_areas": null,
            "grid_template_columns": null,
            "grid_template_rows": null,
            "height": null,
            "justify_content": null,
            "justify_items": null,
            "left": null,
            "margin": null,
            "max_height": null,
            "max_width": null,
            "min_height": null,
            "min_width": null,
            "object_fit": null,
            "object_position": null,
            "order": null,
            "overflow": null,
            "overflow_x": null,
            "overflow_y": null,
            "padding": null,
            "right": null,
            "top": null,
            "visibility": null,
            "width": null
          }
        },
        "c3053e733101432985d8a9e480d2a29b": {
          "model_module": "@jupyter-widgets/base",
          "model_module_version": "1.2.0",
          "model_name": "LayoutModel",
          "state": {
            "_model_module": "@jupyter-widgets/base",
            "_model_module_version": "1.2.0",
            "_model_name": "LayoutModel",
            "_view_count": null,
            "_view_module": "@jupyter-widgets/base",
            "_view_module_version": "1.2.0",
            "_view_name": "LayoutView",
            "align_content": null,
            "align_items": null,
            "align_self": null,
            "border": null,
            "bottom": null,
            "display": null,
            "flex": null,
            "flex_flow": null,
            "grid_area": null,
            "grid_auto_columns": null,
            "grid_auto_flow": null,
            "grid_auto_rows": null,
            "grid_column": null,
            "grid_gap": null,
            "grid_row": null,
            "grid_template_areas": null,
            "grid_template_columns": null,
            "grid_template_rows": null,
            "height": null,
            "justify_content": null,
            "justify_items": null,
            "left": null,
            "margin": null,
            "max_height": null,
            "max_width": null,
            "min_height": null,
            "min_width": null,
            "object_fit": null,
            "object_position": null,
            "order": null,
            "overflow": null,
            "overflow_x": null,
            "overflow_y": null,
            "padding": null,
            "right": null,
            "top": null,
            "visibility": null,
            "width": null
          }
        },
        "c8bca5cf80de4948ad86ed9b08469b75": {
          "model_module": "@jupyter-widgets/controls",
          "model_module_version": "1.5.0",
          "model_name": "HBoxModel",
          "state": {
            "_dom_classes": [],
            "_model_module": "@jupyter-widgets/controls",
            "_model_module_version": "1.5.0",
            "_model_name": "HBoxModel",
            "_view_count": null,
            "_view_module": "@jupyter-widgets/controls",
            "_view_module_version": "1.5.0",
            "_view_name": "HBoxView",
            "box_style": "",
            "children": [
              "IPY_MODEL_3d0983ae13a34bd9a1635309867cb9cd",
              "IPY_MODEL_c8fbb3415ad941d0b138bc5743f77ac3",
              "IPY_MODEL_b2eadb5f487e45f983771b9c4601ee78"
            ],
            "layout": "IPY_MODEL_89b7ea42b66e4ea5952f13cea491b9bf"
          }
        },
        "c8fbb3415ad941d0b138bc5743f77ac3": {
          "model_module": "@jupyter-widgets/controls",
          "model_module_version": "1.5.0",
          "model_name": "FloatProgressModel",
          "state": {
            "_dom_classes": [],
            "_model_module": "@jupyter-widgets/controls",
            "_model_module_version": "1.5.0",
            "_model_name": "FloatProgressModel",
            "_view_count": null,
            "_view_module": "@jupyter-widgets/controls",
            "_view_module_version": "1.5.0",
            "_view_name": "ProgressView",
            "bar_style": "success",
            "description": "",
            "description_tooltip": null,
            "layout": "IPY_MODEL_499b50c69b2a43e18aacf4214ecd5b7c",
            "max": 3644258522,
            "min": 0,
            "orientation": "horizontal",
            "style": "IPY_MODEL_27d2150a6c6a4291bcfee282f491df88",
            "value": 3644258522
          }
        },
        "de9d707864cd47c28ce47383890c023b": {
          "model_module": "@jupyter-widgets/controls",
          "model_module_version": "1.5.0",
          "model_name": "DescriptionStyleModel",
          "state": {
            "_model_module": "@jupyter-widgets/controls",
            "_model_module_version": "1.5.0",
            "_model_name": "DescriptionStyleModel",
            "_view_count": null,
            "_view_module": "@jupyter-widgets/base",
            "_view_module_version": "1.2.0",
            "_view_name": "StyleView",
            "description_width": ""
          }
        }
      }
    }
  },
  "nbformat": 4,
  "nbformat_minor": 0
}
